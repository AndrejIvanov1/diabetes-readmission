{
 "cells": [
  {
   "cell_type": "markdown",
   "metadata": {},
   "source": [
    "## Feature engineering\n",
    "\n",
    "In this notebook, we carry out the initial cleaning of the data. \n",
    "\n",
    "Overall, due to the relatively small number of samples in the training dataset, we aim to reduce the dimensionality of the data by:\n",
    "1. Eliminating features with too many **missing values**\n",
    "2. **Grouping** categorical variables that have a low count\n",
    "3. Eliminating features with **little information**, such as those that are mostly constant\n",
    "\n",
    "We also prepare the text data by vectorizing it."
   ]
  },
  {
   "cell_type": "code",
   "execution_count": 1,
   "metadata": {},
   "outputs": [],
   "source": [
    "import os\n",
    "import numpy as np\n",
    "import pandas as pd\n",
    "import matplotlib.pyplot as plt\n",
    "from sklearn.preprocessing import MultiLabelBinarizer\n",
    "from sklearn.feature_extraction.text import CountVectorizer"
   ]
  },
  {
   "cell_type": "code",
   "execution_count": 2,
   "metadata": {
    "scrolled": false
   },
   "outputs": [
    {
     "name": "stdout",
     "output_type": "stream",
     "text": [
      "<class 'pandas.core.frame.DataFrame'>\n",
      "Int64Index: 6000 entries, 9011 to 1625\n",
      "Data columns (total 51 columns):\n",
      " #   Column                    Non-Null Count  Dtype \n",
      "---  ------                    --------------  ----- \n",
      " 0   race                      6000 non-null   object\n",
      " 1   gender                    6000 non-null   object\n",
      " 2   age                       6000 non-null   object\n",
      " 3   weight                    6000 non-null   object\n",
      " 4   admission_type_id         6000 non-null   object\n",
      " 5   discharge_disposition_id  6000 non-null   object\n",
      " 6   admission_source_id       6000 non-null   object\n",
      " 7   time_in_hospital          6000 non-null   int64 \n",
      " 8   payer_code                6000 non-null   object\n",
      " 9   medical_specialty         6000 non-null   object\n",
      " 10  num_lab_procedures        6000 non-null   int64 \n",
      " 11  num_procedures            6000 non-null   int64 \n",
      " 12  num_medications           6000 non-null   int64 \n",
      " 13  number_outpatient         6000 non-null   int64 \n",
      " 14  number_emergency          6000 non-null   int64 \n",
      " 15  number_inpatient          6000 non-null   int64 \n",
      " 16  diag_1                    6000 non-null   object\n",
      " 17  diag_2                    6000 non-null   object\n",
      " 18  diag_3                    6000 non-null   object\n",
      " 19  number_diagnoses          6000 non-null   int64 \n",
      " 20  max_glu_serum             6000 non-null   object\n",
      " 21  A1Cresult                 6000 non-null   object\n",
      " 22  metformin                 6000 non-null   object\n",
      " 23  repaglinide               6000 non-null   object\n",
      " 24  nateglinide               6000 non-null   object\n",
      " 25  chlorpropamide            6000 non-null   object\n",
      " 26  glimepiride               6000 non-null   object\n",
      " 27  acetohexamide             6000 non-null   object\n",
      " 28  glipizide                 6000 non-null   object\n",
      " 29  glyburide                 6000 non-null   object\n",
      " 30  tolbutamide               6000 non-null   object\n",
      " 31  pioglitazone              6000 non-null   object\n",
      " 32  rosiglitazone             6000 non-null   object\n",
      " 33  acarbose                  6000 non-null   object\n",
      " 34  miglitol                  6000 non-null   object\n",
      " 35  troglitazone              6000 non-null   object\n",
      " 36  tolazamide                6000 non-null   object\n",
      " 37  examide                   6000 non-null   object\n",
      " 38  citoglipton               6000 non-null   object\n",
      " 39  insulin                   6000 non-null   object\n",
      " 40  glyburide.metformin       6000 non-null   object\n",
      " 41  glipizide.metformin       6000 non-null   object\n",
      " 42  glimepiride.pioglitazone  6000 non-null   object\n",
      " 43  metformin.rosiglitazone   6000 non-null   object\n",
      " 44  metformin.pioglitazone    6000 non-null   object\n",
      " 45  change                    6000 non-null   object\n",
      " 46  diabetesMed               6000 non-null   object\n",
      " 47  readmitted                6000 non-null   int64 \n",
      " 48  diag_1_desc               6000 non-null   object\n",
      " 49  diag_2_desc               6000 non-null   object\n",
      " 50  diag_3_desc               6000 non-null   object\n",
      "dtypes: int64(9), object(42)\n",
      "memory usage: 2.4+ MB\n"
     ]
    }
   ],
   "source": [
    "def read_data(filename, data_dir='data'):\n",
    "    df = pd.read_csv(os.path.join(data_dir, filename), index_col=0)\n",
    "    df.fillna('?', inplace=True)\n",
    "    return df\n",
    "\n",
    "df_train = read_data('diab_train.csv')\n",
    "df_val = read_data('diab_validation.csv')\n",
    "df_test = read_data('diab_test.csv')\n",
    "df_train.info()"
   ]
  },
  {
   "cell_type": "code",
   "execution_count": 3,
   "metadata": {},
   "outputs": [
    {
     "data": {
      "text/html": [
       "<div>\n",
       "<style scoped>\n",
       "    .dataframe tbody tr th:only-of-type {\n",
       "        vertical-align: middle;\n",
       "    }\n",
       "\n",
       "    .dataframe tbody tr th {\n",
       "        vertical-align: top;\n",
       "    }\n",
       "\n",
       "    .dataframe thead th {\n",
       "        text-align: right;\n",
       "    }\n",
       "</style>\n",
       "<table border=\"1\" class=\"dataframe\">\n",
       "  <thead>\n",
       "    <tr style=\"text-align: right;\">\n",
       "      <th></th>\n",
       "      <th>race</th>\n",
       "      <th>gender</th>\n",
       "      <th>age</th>\n",
       "      <th>weight</th>\n",
       "      <th>admission_type_id</th>\n",
       "      <th>discharge_disposition_id</th>\n",
       "      <th>admission_source_id</th>\n",
       "      <th>time_in_hospital</th>\n",
       "      <th>payer_code</th>\n",
       "      <th>medical_specialty</th>\n",
       "      <th>...</th>\n",
       "      <th>glipizide.metformin</th>\n",
       "      <th>glimepiride.pioglitazone</th>\n",
       "      <th>metformin.rosiglitazone</th>\n",
       "      <th>metformin.pioglitazone</th>\n",
       "      <th>change</th>\n",
       "      <th>diabetesMed</th>\n",
       "      <th>readmitted</th>\n",
       "      <th>diag_1_desc</th>\n",
       "      <th>diag_2_desc</th>\n",
       "      <th>diag_3_desc</th>\n",
       "    </tr>\n",
       "  </thead>\n",
       "  <tbody>\n",
       "    <tr>\n",
       "      <th>9011</th>\n",
       "      <td>AfricanAmerican</td>\n",
       "      <td>Male</td>\n",
       "      <td>[60-70)</td>\n",
       "      <td>?</td>\n",
       "      <td>Emergency</td>\n",
       "      <td>Discharged to home</td>\n",
       "      <td>Emergency Room</td>\n",
       "      <td>4</td>\n",
       "      <td>MC</td>\n",
       "      <td>?</td>\n",
       "      <td>...</td>\n",
       "      <td>No</td>\n",
       "      <td>No</td>\n",
       "      <td>No</td>\n",
       "      <td>No</td>\n",
       "      <td>No</td>\n",
       "      <td>No</td>\n",
       "      <td>0</td>\n",
       "      <td>Acute pericarditis in diseases classified else...</td>\n",
       "      <td>Secondary malignant neoplasm of kidney</td>\n",
       "      <td>Congestive heart failure, unspecified</td>\n",
       "    </tr>\n",
       "    <tr>\n",
       "      <th>9569</th>\n",
       "      <td>Caucasian</td>\n",
       "      <td>Female</td>\n",
       "      <td>[70-80)</td>\n",
       "      <td>?</td>\n",
       "      <td>Elective</td>\n",
       "      <td>?</td>\n",
       "      <td>Physician Referral</td>\n",
       "      <td>1</td>\n",
       "      <td>?</td>\n",
       "      <td>Family/GeneralPractice</td>\n",
       "      <td>...</td>\n",
       "      <td>No</td>\n",
       "      <td>No</td>\n",
       "      <td>No</td>\n",
       "      <td>No</td>\n",
       "      <td>Ch</td>\n",
       "      <td>Yes</td>\n",
       "      <td>1</td>\n",
       "      <td>Malignant essential hypertension</td>\n",
       "      <td>Spinal stenosis, unspecified region</td>\n",
       "      <td>Diabetes mellitus without mention of complicat...</td>\n",
       "    </tr>\n",
       "    <tr>\n",
       "      <th>6090</th>\n",
       "      <td>Caucasian</td>\n",
       "      <td>Female</td>\n",
       "      <td>[80-90)</td>\n",
       "      <td>?</td>\n",
       "      <td>Urgent</td>\n",
       "      <td>Discharged/transferred to SNF</td>\n",
       "      <td>Emergency Room</td>\n",
       "      <td>2</td>\n",
       "      <td>MC</td>\n",
       "      <td>Emergency/Trauma</td>\n",
       "      <td>...</td>\n",
       "      <td>No</td>\n",
       "      <td>No</td>\n",
       "      <td>No</td>\n",
       "      <td>No</td>\n",
       "      <td>Ch</td>\n",
       "      <td>Yes</td>\n",
       "      <td>0</td>\n",
       "      <td>Urinary tract infection, site not specified</td>\n",
       "      <td>Streptococcus infection in conditions classifi...</td>\n",
       "      <td>Congestive heart failure, unspecified</td>\n",
       "    </tr>\n",
       "    <tr>\n",
       "      <th>4282</th>\n",
       "      <td>AfricanAmerican</td>\n",
       "      <td>Female</td>\n",
       "      <td>[50-60)</td>\n",
       "      <td>?</td>\n",
       "      <td>Emergency</td>\n",
       "      <td>Discharged to home</td>\n",
       "      <td>Emergency Room</td>\n",
       "      <td>4</td>\n",
       "      <td>DM</td>\n",
       "      <td>?</td>\n",
       "      <td>...</td>\n",
       "      <td>No</td>\n",
       "      <td>No</td>\n",
       "      <td>No</td>\n",
       "      <td>No</td>\n",
       "      <td>Ch</td>\n",
       "      <td>Yes</td>\n",
       "      <td>1</td>\n",
       "      <td>Respiratory abnormality, unspecified</td>\n",
       "      <td>Hypertensive chronic kidney disease, malignant...</td>\n",
       "      <td>Diabetes mellitus without mention of complicat...</td>\n",
       "    </tr>\n",
       "    <tr>\n",
       "      <th>9084</th>\n",
       "      <td>Caucasian</td>\n",
       "      <td>Male</td>\n",
       "      <td>[80-90)</td>\n",
       "      <td>?</td>\n",
       "      <td>Elective</td>\n",
       "      <td>?</td>\n",
       "      <td>Physician Referral</td>\n",
       "      <td>13</td>\n",
       "      <td>?</td>\n",
       "      <td>?</td>\n",
       "      <td>...</td>\n",
       "      <td>No</td>\n",
       "      <td>No</td>\n",
       "      <td>No</td>\n",
       "      <td>No</td>\n",
       "      <td>Ch</td>\n",
       "      <td>Yes</td>\n",
       "      <td>1</td>\n",
       "      <td>Coronary atherosclerosis of unspecified type o...</td>\n",
       "      <td>Chronic airway obstruction, not elsewhere clas...</td>\n",
       "      <td>Malignant essential hypertension</td>\n",
       "    </tr>\n",
       "    <tr>\n",
       "      <th>1776</th>\n",
       "      <td>Caucasian</td>\n",
       "      <td>Female</td>\n",
       "      <td>[70-80)</td>\n",
       "      <td>?</td>\n",
       "      <td>Emergency</td>\n",
       "      <td>Discharged/transferred to SNF</td>\n",
       "      <td>Emergency Room</td>\n",
       "      <td>3</td>\n",
       "      <td>?</td>\n",
       "      <td>InternalMedicine</td>\n",
       "      <td>...</td>\n",
       "      <td>No</td>\n",
       "      <td>No</td>\n",
       "      <td>No</td>\n",
       "      <td>No</td>\n",
       "      <td>No</td>\n",
       "      <td>Yes</td>\n",
       "      <td>0</td>\n",
       "      <td>Cerebral thrombosis without mention of cerebra...</td>\n",
       "      <td>Urinary tract infection, site not specified</td>\n",
       "      <td>Diabetes mellitus without mention of complicat...</td>\n",
       "    </tr>\n",
       "    <tr>\n",
       "      <th>797</th>\n",
       "      <td>Caucasian</td>\n",
       "      <td>Male</td>\n",
       "      <td>[60-70)</td>\n",
       "      <td>[75-100)</td>\n",
       "      <td>Elective</td>\n",
       "      <td>Discharged/transferred to ICF</td>\n",
       "      <td>Transfer from another health care facility</td>\n",
       "      <td>5</td>\n",
       "      <td>MC</td>\n",
       "      <td>InternalMedicine</td>\n",
       "      <td>...</td>\n",
       "      <td>No</td>\n",
       "      <td>No</td>\n",
       "      <td>No</td>\n",
       "      <td>No</td>\n",
       "      <td>No</td>\n",
       "      <td>No</td>\n",
       "      <td>0</td>\n",
       "      <td>Acquired hypertrophic pyloric stenosis</td>\n",
       "      <td>Congestive heart failure, unspecified</td>\n",
       "      <td>Paroxysmal supraventricular tachycardia</td>\n",
       "    </tr>\n",
       "    <tr>\n",
       "      <th>413</th>\n",
       "      <td>Caucasian</td>\n",
       "      <td>Female</td>\n",
       "      <td>[60-70)</td>\n",
       "      <td>?</td>\n",
       "      <td>Emergency</td>\n",
       "      <td>Discharged to home</td>\n",
       "      <td>Transfer from a hospital</td>\n",
       "      <td>3</td>\n",
       "      <td>MC</td>\n",
       "      <td>InternalMedicine</td>\n",
       "      <td>...</td>\n",
       "      <td>No</td>\n",
       "      <td>No</td>\n",
       "      <td>No</td>\n",
       "      <td>No</td>\n",
       "      <td>No</td>\n",
       "      <td>Yes</td>\n",
       "      <td>0</td>\n",
       "      <td>Basilar artery syndrome</td>\n",
       "      <td>Malignant hypertensive heart disease without h...</td>\n",
       "      <td>Congestive heart failure, unspecified</td>\n",
       "    </tr>\n",
       "    <tr>\n",
       "      <th>8150</th>\n",
       "      <td>Caucasian</td>\n",
       "      <td>Male</td>\n",
       "      <td>[20-30)</td>\n",
       "      <td>?</td>\n",
       "      <td>Emergency</td>\n",
       "      <td>Discharged to home</td>\n",
       "      <td>Emergency Room</td>\n",
       "      <td>2</td>\n",
       "      <td>?</td>\n",
       "      <td>?</td>\n",
       "      <td>...</td>\n",
       "      <td>No</td>\n",
       "      <td>No</td>\n",
       "      <td>No</td>\n",
       "      <td>No</td>\n",
       "      <td>No</td>\n",
       "      <td>No</td>\n",
       "      <td>0</td>\n",
       "      <td>Hyperosmolality and/or hypernatremia</td>\n",
       "      <td>Adenovirus infection in conditions classified ...</td>\n",
       "      <td>Personal history of allergy, other than to med...</td>\n",
       "    </tr>\n",
       "    <tr>\n",
       "      <th>5317</th>\n",
       "      <td>Asian</td>\n",
       "      <td>Male</td>\n",
       "      <td>[80-90)</td>\n",
       "      <td>?</td>\n",
       "      <td>Urgent</td>\n",
       "      <td>Discharged/transferred to another short term h...</td>\n",
       "      <td>Emergency Room</td>\n",
       "      <td>1</td>\n",
       "      <td>SP</td>\n",
       "      <td>Family/GeneralPractice</td>\n",
       "      <td>...</td>\n",
       "      <td>No</td>\n",
       "      <td>No</td>\n",
       "      <td>No</td>\n",
       "      <td>No</td>\n",
       "      <td>Ch</td>\n",
       "      <td>Yes</td>\n",
       "      <td>1</td>\n",
       "      <td>Closed fracture of acetabulum</td>\n",
       "      <td>Emphysematous bleb</td>\n",
       "      <td>Closed fracture of unspecified part of upper e...</td>\n",
       "    </tr>\n",
       "  </tbody>\n",
       "</table>\n",
       "<p>10 rows × 51 columns</p>\n",
       "</div>"
      ],
      "text/plain": [
       "                 race  gender      age    weight admission_type_id  \\\n",
       "9011  AfricanAmerican    Male  [60-70)         ?         Emergency   \n",
       "9569        Caucasian  Female  [70-80)         ?          Elective   \n",
       "6090        Caucasian  Female  [80-90)         ?            Urgent   \n",
       "4282  AfricanAmerican  Female  [50-60)         ?         Emergency   \n",
       "9084        Caucasian    Male  [80-90)         ?          Elective   \n",
       "1776        Caucasian  Female  [70-80)         ?         Emergency   \n",
       "797         Caucasian    Male  [60-70)  [75-100)          Elective   \n",
       "413         Caucasian  Female  [60-70)         ?         Emergency   \n",
       "8150        Caucasian    Male  [20-30)         ?         Emergency   \n",
       "5317            Asian    Male  [80-90)         ?            Urgent   \n",
       "\n",
       "                               discharge_disposition_id  \\\n",
       "9011                                 Discharged to home   \n",
       "9569                                                  ?   \n",
       "6090                      Discharged/transferred to SNF   \n",
       "4282                                 Discharged to home   \n",
       "9084                                                  ?   \n",
       "1776                      Discharged/transferred to SNF   \n",
       "797                       Discharged/transferred to ICF   \n",
       "413                                  Discharged to home   \n",
       "8150                                 Discharged to home   \n",
       "5317  Discharged/transferred to another short term h...   \n",
       "\n",
       "                             admission_source_id  time_in_hospital payer_code  \\\n",
       "9011                              Emergency Room                 4         MC   \n",
       "9569                          Physician Referral                 1          ?   \n",
       "6090                              Emergency Room                 2         MC   \n",
       "4282                              Emergency Room                 4         DM   \n",
       "9084                          Physician Referral                13          ?   \n",
       "1776                              Emergency Room                 3          ?   \n",
       "797   Transfer from another health care facility                 5         MC   \n",
       "413                     Transfer from a hospital                 3         MC   \n",
       "8150                              Emergency Room                 2          ?   \n",
       "5317                              Emergency Room                 1         SP   \n",
       "\n",
       "           medical_specialty  ...  glipizide.metformin  \\\n",
       "9011                       ?  ...                   No   \n",
       "9569  Family/GeneralPractice  ...                   No   \n",
       "6090        Emergency/Trauma  ...                   No   \n",
       "4282                       ?  ...                   No   \n",
       "9084                       ?  ...                   No   \n",
       "1776        InternalMedicine  ...                   No   \n",
       "797         InternalMedicine  ...                   No   \n",
       "413         InternalMedicine  ...                   No   \n",
       "8150                       ?  ...                   No   \n",
       "5317  Family/GeneralPractice  ...                   No   \n",
       "\n",
       "      glimepiride.pioglitazone  metformin.rosiglitazone  \\\n",
       "9011                        No                       No   \n",
       "9569                        No                       No   \n",
       "6090                        No                       No   \n",
       "4282                        No                       No   \n",
       "9084                        No                       No   \n",
       "1776                        No                       No   \n",
       "797                         No                       No   \n",
       "413                         No                       No   \n",
       "8150                        No                       No   \n",
       "5317                        No                       No   \n",
       "\n",
       "      metformin.pioglitazone  change  diabetesMed readmitted  \\\n",
       "9011                      No      No           No          0   \n",
       "9569                      No      Ch          Yes          1   \n",
       "6090                      No      Ch          Yes          0   \n",
       "4282                      No      Ch          Yes          1   \n",
       "9084                      No      Ch          Yes          1   \n",
       "1776                      No      No          Yes          0   \n",
       "797                       No      No           No          0   \n",
       "413                       No      No          Yes          0   \n",
       "8150                      No      No           No          0   \n",
       "5317                      No      Ch          Yes          1   \n",
       "\n",
       "                                            diag_1_desc  \\\n",
       "9011  Acute pericarditis in diseases classified else...   \n",
       "9569                   Malignant essential hypertension   \n",
       "6090        Urinary tract infection, site not specified   \n",
       "4282               Respiratory abnormality, unspecified   \n",
       "9084  Coronary atherosclerosis of unspecified type o...   \n",
       "1776  Cerebral thrombosis without mention of cerebra...   \n",
       "797              Acquired hypertrophic pyloric stenosis   \n",
       "413                             Basilar artery syndrome   \n",
       "8150               Hyperosmolality and/or hypernatremia   \n",
       "5317                      Closed fracture of acetabulum   \n",
       "\n",
       "                                            diag_2_desc  \\\n",
       "9011             Secondary malignant neoplasm of kidney   \n",
       "9569                Spinal stenosis, unspecified region   \n",
       "6090  Streptococcus infection in conditions classifi...   \n",
       "4282  Hypertensive chronic kidney disease, malignant...   \n",
       "9084  Chronic airway obstruction, not elsewhere clas...   \n",
       "1776        Urinary tract infection, site not specified   \n",
       "797               Congestive heart failure, unspecified   \n",
       "413   Malignant hypertensive heart disease without h...   \n",
       "8150  Adenovirus infection in conditions classified ...   \n",
       "5317                                 Emphysematous bleb   \n",
       "\n",
       "                                            diag_3_desc  \n",
       "9011              Congestive heart failure, unspecified  \n",
       "9569  Diabetes mellitus without mention of complicat...  \n",
       "6090              Congestive heart failure, unspecified  \n",
       "4282  Diabetes mellitus without mention of complicat...  \n",
       "9084                   Malignant essential hypertension  \n",
       "1776  Diabetes mellitus without mention of complicat...  \n",
       "797             Paroxysmal supraventricular tachycardia  \n",
       "413               Congestive heart failure, unspecified  \n",
       "8150  Personal history of allergy, other than to med...  \n",
       "5317  Closed fracture of unspecified part of upper e...  \n",
       "\n",
       "[10 rows x 51 columns]"
      ]
     },
     "execution_count": 3,
     "metadata": {},
     "output_type": "execute_result"
    }
   ],
   "source": [
    "df_train.head(10)"
   ]
  },
  {
   "cell_type": "markdown",
   "metadata": {},
   "source": [
    "###  Dealing with missing values\n",
    "The columns: **'weight'**, **'payer_code'** and **'medical_specialty'** have too many missing values to provide meaningful information to the machine learning algorithm, so we just remove them.\n",
    "\n",
    "For the other columns with a smaller number of missing values, we just leave the missing value as a '?'. In the categorical features, this would correspond to a new 'unknown' category. "
   ]
  },
  {
   "cell_type": "code",
   "execution_count": 4,
   "metadata": {},
   "outputs": [
    {
     "name": "stdout",
     "output_type": "stream",
     "text": [
      "Missing values per column\n",
      "race 124\n",
      "weight 5757\n",
      "admission_type_id 416\n",
      "discharge_disposition_id 283\n",
      "admission_source_id 551\n",
      "payer_code 3211\n",
      "medical_specialty 2440\n",
      "diag_1 1\n",
      "diag_2 34\n",
      "diag_3 122\n",
      "diag_1_desc 1\n",
      "diag_2_desc 34\n",
      "diag_3_desc 122\n"
     ]
    },
    {
     "name": "stderr",
     "output_type": "stream",
     "text": [
      "/home/carlos/anaconda3/envs/covid/lib/python3.8/site-packages/pandas/core/ops/array_ops.py:253: FutureWarning: elementwise comparison failed; returning scalar instead, but in the future will perform elementwise comparison\n",
      "  res_values = method(rvalues)\n"
     ]
    }
   ],
   "source": [
    "print(\"Missing values per column\")\n",
    "for column in df_train.columns:\n",
    "    num_missing_values = (df_train[column] == '?').sum()\n",
    "    if num_missing_values > 0:\n",
    "        print(column, num_missing_values)"
   ]
  },
  {
   "cell_type": "code",
   "execution_count": 5,
   "metadata": {},
   "outputs": [],
   "source": [
    "columns_to_remove = ['weight', 'payer_code', 'medical_specialty']\n",
    "df_train.drop(columns_to_remove, axis='columns', inplace=True)\n",
    "df_val.drop(columns_to_remove, axis='columns', inplace=True)\n",
    "df_test.drop(columns_to_remove, axis='columns', inplace=True)\n",
    "\n",
    "assert(not df_train.isna().values.any())"
   ]
  },
  {
   "cell_type": "markdown",
   "metadata": {},
   "source": [
    "### Feature engineering: age\n",
    "The younger age groups have too few data points, so we group them into one new age group to normalize the data."
   ]
  },
  {
   "cell_type": "code",
   "execution_count": 6,
   "metadata": {},
   "outputs": [
    {
     "data": {
      "image/png": "[encoded data removed]",
      "text/plain": [
       "<Figure size 432x288 with 1 Axes>"
      ]
     },
     "metadata": {
      "needs_background": "light"
     },
     "output_type": "display_data"
    }
   ],
   "source": [
    "df_train.groupby('age').size().plot(kind='bar')\n",
    "plt.show()"
   ]
  },
  {
   "cell_type": "code",
   "execution_count": 7,
   "metadata": {
    "scrolled": true
   },
   "outputs": [
    {
     "data": {
      "image/png": "[encoded data removed]",
      "text/plain": [
       "<Figure size 432x288 with 1 Axes>"
      ]
     },
     "metadata": {
      "needs_background": "light"
     },
     "output_type": "display_data"
    }
   ],
   "source": [
    "def normalize_age(df):    \n",
    "    df['age'] = df['age']. \\\n",
    "                      map(lambda x: '[0-50)' if x in ['[0-10)', '[10-20)', '[20-30)', '[30-40)', '[40-50)'] else x). \\\n",
    "                      map(lambda x: '[80-100)]' if x in ['[80-90)', '[90-100)'] else x)\n",
    "    return df\n",
    "\n",
    "df_train = normalize_age(df_train)\n",
    "df_test = normalize_age(df_test)\n",
    "df_val = normalize_age(df_val)\n",
    "df_train.groupby('age').size().plot(kind='bar')\n",
    "plt.show()"
   ]
  },
  {
   "cell_type": "markdown",
   "metadata": {},
   "source": [
    "### Feature engineering: Medicine columns\n",
    "By looking at the statistics we can see that most of these columns are almost constant, so we decided to remove them.\n",
    "\n",
    "The only relevant column is 'insulin'"
   ]
  },
  {
   "cell_type": "code",
   "execution_count": 8,
   "metadata": {},
   "outputs": [
    {
     "name": "stdout",
     "output_type": "stream",
     "text": [
      "Column   # dominant entry   % dominant entry  total entries\n",
      "metformin  4793  79%  6000\n",
      "repaglinide  5923  98%  6000\n",
      "nateglinide  5964  99%  6000\n",
      "chlorpropamide  5992  99%  6000\n",
      "glimepiride  5710  95%  6000\n",
      "acetohexamide  6000  100%  6000\n",
      "glipizide  5221  87%  6000\n",
      "glyburide  5297  88%  6000\n",
      "tolbutamide  5999  99%  6000\n",
      "pioglitazone  5605  93%  6000\n",
      "rosiglitazone  5545  92%  6000\n",
      "acarbose  5985  99%  6000\n",
      "miglitol  5996  99%  6000\n",
      "troglitazone  6000  100%  6000\n",
      "tolazamide  5998  99%  6000\n",
      "examide  6000  100%  6000\n",
      "citoglipton  6000  100%  6000\n",
      "insulin  3116  51%  6000\n",
      "glyburide.metformin  5968  99%  6000\n",
      "glipizide.metformin  6000  100%  6000\n",
      "glimepiride.pioglitazone  6000  100%  6000\n",
      "metformin.rosiglitazone  6000  100%  6000\n",
      "metformin.pioglitazone  6000  100%  6000\n"
     ]
    }
   ],
   "source": [
    "total = df_train.shape[0]\n",
    "medication_columns = ['metformin', 'repaglinide', 'nateglinide', 'chlorpropamide', 'glimepiride', 'acetohexamide', 'glipizide', 'glyburide', 'tolbutamide',\n",
    "                      'pioglitazone', 'rosiglitazone', 'acarbose', 'miglitol', 'troglitazone', 'tolazamide', 'examide', \n",
    "                      'citoglipton', 'insulin', 'glyburide.metformin', 'glipizide.metformin', 'glimepiride.pioglitazone', \n",
    "                      'metformin.rosiglitazone', 'metformin.pioglitazone']\n",
    "\n",
    "print('Column   # dominant entry   % dominant entry  total entries')\n",
    "for column in medication_columns:\n",
    "    dominant_cnt = df_train[column].value_counts()[0]\n",
    "    percentage_dominant_cnt = int(dominant_cnt / total * 100)\n",
    "    print(\"{}  {}  {}%  {}\".format(column, dominant_cnt, str(percentage_dominant_cnt), str(total)))"
   ]
  },
  {
   "cell_type": "code",
   "execution_count": 9,
   "metadata": {},
   "outputs": [
    {
     "data": {
      "text/plain": [
       "No        3116\n",
       "Steady    1794\n",
       "Down       590\n",
       "Up         500\n",
       "Name: insulin, dtype: int64"
      ]
     },
     "execution_count": 9,
     "metadata": {},
     "output_type": "execute_result"
    }
   ],
   "source": [
    "df_train['insulin'].value_counts()"
   ]
  },
  {
   "cell_type": "code",
   "execution_count": 10,
   "metadata": {},
   "outputs": [],
   "source": [
    "#medication_columns.remove('insulin')\n",
    "\n",
    "df_train.drop(medication_columns, axis='columns', inplace=True)\n",
    "df_val.drop(medication_columns, axis='columns', inplace=True)\n",
    "df_test.drop(medication_columns, axis='columns', inplace=True)"
   ]
  },
  {
   "cell_type": "code",
   "execution_count": 11,
   "metadata": {},
   "outputs": [
    {
     "data": {
      "text/plain": [
       "Index(['race', 'gender', 'age', 'admission_type_id',\n",
       "       'discharge_disposition_id', 'admission_source_id', 'time_in_hospital',\n",
       "       'num_lab_procedures', 'num_procedures', 'num_medications',\n",
       "       'number_outpatient', 'number_emergency', 'number_inpatient', 'diag_1',\n",
       "       'diag_2', 'diag_3', 'number_diagnoses', 'max_glu_serum', 'A1Cresult',\n",
       "       'change', 'diabetesMed', 'readmitted', 'diag_1_desc', 'diag_2_desc',\n",
       "       'diag_3_desc'],\n",
       "      dtype='object')"
      ]
     },
     "execution_count": 11,
     "metadata": {},
     "output_type": "execute_result"
    }
   ],
   "source": [
    "df_train.columns"
   ]
  },
  {
   "cell_type": "markdown",
   "metadata": {},
   "source": [
    "### Feature engineering: discharge, admission type and admission source\n",
    "We reduce the dimensionality by grouping disposition and admission into fewer categories.\n",
    "\n",
    "Discharge disposition split into those sent home or not.\n",
    "\n",
    "Admission source split into Emergency room, Physician Referral and Other.\n",
    "\n",
    "Admission type split into Emergency and Other."
   ]
  },
  {
   "cell_type": "code",
   "execution_count": 12,
   "metadata": {},
   "outputs": [],
   "source": [
    "for dataset in [df_train, df_val, df_test]:\n",
    "    dataset['discharge_disposition_id'].replace('Not Mapped', '?', inplace=True)\n",
    "    dataset['admission_source_id'].replace(['Not Available', 'Not Mapped'], ['?', '?'], inplace=True)\n",
    "    dataset['admission_type_id'].replace(['Not Available', 'Not Mapped'], ['?', '?'], inplace=True)\n",
    "    \n",
    "    home_vals = ['Discharged to home', \\\n",
    "                    'Discharged/transferred to home with home health service', \\\n",
    "                    'Discharged/transferred to home under care of Home IV provider']\n",
    "    safe_vals = ['Emergency Room', 'Physician Referral']\n",
    "    dataset['discharge_disposition_id'] = pd.Series(['Home' if val in home_vals else 'Not Home' for val in dataset['discharge_disposition_id']], index=dataset.index)\n",
    "    dataset['admission_source_id'] = pd.Series([val if val in safe_vals else 'Other' for val in dataset['admission_source_id']], index=dataset.index)\n",
    "    dataset['admission_type_id'] = pd.Series([val if val == 'Emergency' else 'Other' for val in dataset['admission_type_id']], index=dataset.index)"
   ]
  },
  {
   "cell_type": "markdown",
   "metadata": {},
   "source": [
    "### Feature engineering: diag\n",
    "\n",
    "For the diagnosis text, there is a one to one mapping between diagnostic codes and descriptions. Thus, we do not attempt to learn word embeddings in order to find some vector representation for each diagnosis text.\n",
    "\n",
    "However, similar text in the diagnosis description of two diagnoses may indicate some similarity between them. To encode this, e take vectors of frequency counts of words that appear with a frequency of at least 5% the size of the corpus, ignoring stopwords, as a representation of that text. We choose to avoid TF-idf due to the repetition of the same diagnosis texts.\n",
    "\n",
    "For the diagnostic codes, we take two different approaches:\n",
    "\n",
    "- For the first one, we attempt to drastically reduce the dimensionality of the data by keeping only the primary diagnosis and splitting these into those with a diabetes diagnosis (Codes 250) and those without. \n",
    "\n",
    "- For the second approach, we combine all diagnosis codes and represent a patient diagnosis as a vector whose length is the number of different diagnosis codes. In order to prevent a huge blow up in dimensions, we take only the top 200 most frequent diagnoses, and group all others under 'uncommon'. There is a 1 for each of the diagnoses for that patient and a 0 everywhere else. \n",
    "\n",
    "We treat the diagnosis text the same way in both.\n",
    "\n",
    "Despite the one-to-one mapping between diagnosis text and codes, we find that incorporating the text results in a slight improvement over not having it. We speculate that the text therefore encodes some meaningful information regarding the similarity of diagnoses."
   ]
  },
  {
   "cell_type": "code",
   "execution_count": 13,
   "metadata": {},
   "outputs": [],
   "source": [
    "df_train_alt = df_train.copy()\n",
    "df_test_alt = df_test.copy()\n",
    "df_val_alt = df_val.copy()"
   ]
  },
  {
   "cell_type": "code",
   "execution_count": 14,
   "metadata": {},
   "outputs": [
    {
     "data": {
      "text/plain": [
       "[True, True, True]"
      ]
     },
     "execution_count": 14,
     "metadata": {},
     "output_type": "execute_result"
    }
   ],
   "source": [
    "[(df_train['diag_' + str(i)].value_counts().values == df_train['diag_' + str(i) + '_desc'].value_counts().values).all() for i in [1, 2, 3]]"
   ]
  },
  {
   "cell_type": "code",
   "execution_count": 15,
   "metadata": {
    "scrolled": true
   },
   "outputs": [],
   "source": [
    "for dataset in [df_train, df_val, df_test]:\n",
    "    dataset['diag_1'] = pd.Series([\"yes\" if val[0:4] == '250' else \"no\" for val in dataset['diag_1']], index=dataset.index)\n",
    "    dataset['diag_desc'] = dataset[['diag_1_desc', 'diag_2_desc', 'diag_3_desc']].agg(' '.join, axis=1)\n",
    "    dataset.drop(columns=['diag_2', 'diag_3', 'diag_2_desc', 'diag_3_desc'], inplace=True)\n",
    "    \n",
    "vectorizer = CountVectorizer(min_df=0.05, stop_words='english')\n",
    "vectorizer.fit(df_train.diag_desc.append([df_val.diag_desc, df_test.diag_desc]))\n",
    "vocab = list(vectorizer.vocabulary_.keys())\n",
    "\n",
    "for dataset in [df_train, df_val, df_test]:\n",
    "    dataset[vocab] = pd.DataFrame(vectorizer.transform(dataset.diag_desc).todense(), index=dataset.index)\n",
    "    dataset.drop(columns=['diag_desc'], inplace=True)"
   ]
  },
  {
   "cell_type": "code",
   "execution_count": 16,
   "metadata": {},
   "outputs": [],
   "source": [
    "df_train.to_csv(os.path.join('data', 'diab_train_filtered.csv'))\n",
    "df_test.to_csv(os.path.join('data', 'diab_test_filtered.csv'))\n",
    "df_val.to_csv(os.path.join('data', 'diab_validation_filtered.csv'))"
   ]
  },
  {
   "cell_type": "markdown",
   "metadata": {},
   "source": [
    "#### Alternatively, we keep all the diagnosis information and create one-hot encodings for each patient\n",
    "We combine diag_1, 2 and 3 into a one hot encoding for each patient combining the 3.\n",
    "\n",
    "Take only the 200 most frequent diagnoses, grouping the rest into a new one called 'uncommon'."
   ]
  },
  {
   "cell_type": "code",
   "execution_count": 17,
   "metadata": {},
   "outputs": [],
   "source": [
    "from collections import Counter\n",
    "l = df_train_alt[['diag_1', 'diag_2', 'diag_3']].values.tolist()\n",
    "l = [list(set(li)) for li in l]\n",
    "l = [el for li in l for el in li]\n",
    "uncommon = [el[0] for el in Counter(l).most_common()[201:]]"
   ]
  },
  {
   "cell_type": "code",
   "execution_count": 18,
   "metadata": {},
   "outputs": [],
   "source": [
    "for dataset in [df_train_alt, df_val_alt, df_test_alt]:\n",
    "    dataset['diag_1'].replace(uncommon, 'uncommon', inplace=True)\n",
    "    dataset['diag_2'].replace(uncommon, 'uncommon', inplace=True)\n",
    "    dataset['diag_3'].replace(uncommon, 'uncommon', inplace=True)\n",
    "    dataset['diag_desc'] = dataset[['diag_1_desc', 'diag_2_desc', 'diag_3_desc']].agg(' '.join, axis=1)\n",
    "    dataset.drop(columns=['diag_2_desc', 'diag_3_desc'], inplace=True)\n",
    "    dataset['diag_full'] = dataset[['diag_1', 'diag_2', 'diag_3']].values.tolist()\n",
    "\n",
    "mlb = MultiLabelBinarizer()\n",
    "# avoid oob error, capture all possible diagnosis codes\n",
    "mlb.fit(df_train_alt.diag_full.append([df_val_alt.diag_full, df_test_alt.diag_full]))\n",
    "for dataset in [df_train_alt, df_val_alt, df_test_alt]:\n",
    "    dataset[mlb.classes_] = pd.DataFrame(mlb.transform(dataset.diag_full), index=dataset.index)\n",
    "    dataset.drop(columns=['diag_1', 'diag_2', 'diag_3', 'diag_full'], inplace=True)\n",
    "\n",
    "vectorizer = CountVectorizer(min_df=0.05, stop_words='english')\n",
    "vectorizer.fit(df_train_alt.diag_desc.append([df_val_alt.diag_desc, df_test_alt.diag_desc]))\n",
    "vocab = list(vectorizer.vocabulary_.keys())\n",
    "\n",
    "for dataset in [df_train_alt, df_val_alt, df_test_alt]:\n",
    "    dataset[vocab] = pd.DataFrame(vectorizer.transform(dataset.diag_desc).todense(), index=dataset.index)\n",
    "    dataset.drop(columns=['diag_desc'], inplace=True)"
   ]
  },
  {
   "cell_type": "code",
   "execution_count": 19,
   "metadata": {},
   "outputs": [],
   "source": [
    "df_train_alt.to_csv(os.path.join('data', 'diab_train_alt.csv'))\n",
    "df_test_alt.to_csv(os.path.join('data', 'diab_test_alt.csv'))\n",
    "df_val_alt.to_csv(os.path.join('data', 'diab_validation_alt.csv'))"
   ]
  }
 ],
 "metadata": {
  "kernelspec": {
   "display_name": "Python 3",
   "language": "python",
   "name": "python3"
  },
  "language_info": {
   "codemirror_mode": {
    "name": "ipython",
    "version": 3
   },
   "file_extension": ".py",
   "mimetype": "text/x-python",
   "name": "python",
   "nbconvert_exporter": "python",
   "pygments_lexer": "ipython3",
   "version": "3.8.2"
  }
 },
 "nbformat": 4,
 "nbformat_minor": 4
}
